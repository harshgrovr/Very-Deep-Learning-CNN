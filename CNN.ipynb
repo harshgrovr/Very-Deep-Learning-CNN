{
 "cells": [
  {
   "cell_type": "code",
   "execution_count": null,
   "metadata": {},
   "outputs": [],
   "source": [
    "from __future__ import print_function"
   ]
  },
  {
   "cell_type": "code",
   "execution_count": 15,
   "metadata": {},
   "outputs": [],
   "source": [
    "import torch\n",
    "import torch.nn as nn\n",
    "import torch.backends.cudnn as cudnn"
   ]
  },
  {
   "cell_type": "code",
   "execution_count": 20,
   "metadata": {},
   "outputs": [],
   "source": [
    "use_cuda = torch.cuda.is_available()"
   ]
  },
  {
   "cell_type": "code",
   "execution_count": 31,
   "metadata": {},
   "outputs": [],
   "source": [
    "from dataset import dataset\n",
    "from AlexNet import AlexNet\n",
    "from train_test import start_train_test"
   ]
  },
  {
   "cell_type": "code",
   "execution_count": 22,
   "metadata": {},
   "outputs": [
    {
     "name": "stdout",
     "output_type": "stream",
     "text": [
      "| Preparing MNIST dataset...\n",
      "| Output classes: 10\n",
      "Input channels: 1\n"
     ]
    }
   ],
   "source": [
    "trainloader, testloader, outputs, inputs = dataset('mnist')\n",
    "print ('Output classes: {}\\nInput channels: {}'.format(outputs, inputs))"
   ]
  },
  {
   "cell_type": "code",
   "execution_count": 23,
   "metadata": {},
   "outputs": [],
   "source": [
    "best_acc = 0\n",
    "resize=32"
   ]
  },
  {
   "cell_type": "code",
   "execution_count": 24,
   "metadata": {},
   "outputs": [],
   "source": [
    "net = AlexNet(num_classes = outputs,inputs=inputs)\n",
    "file_name = 'alexnet-'"
   ]
  },
  {
   "cell_type": "code",
   "execution_count": 25,
   "metadata": {},
   "outputs": [],
   "source": [
    "if use_cuda:\n",
    "    net.cuda()\n",
    "    net = torch.nn.DataParallel(net, device_ids=range(torch.cuda.device_count()))\n",
    "    cudnn.benchmark = True"
   ]
  },
  {
   "cell_type": "code",
   "execution_count": 26,
   "metadata": {},
   "outputs": [],
   "source": [
    "criterion = nn.CrossEntropyLoss()"
   ]
  },
  {
   "cell_type": "code",
   "execution_count": 32,
   "metadata": {},
   "outputs": [
    {
     "name": "stdout",
     "output_type": "stream",
     "text": [
      "\n",
      "=> Training Epoch #1, LR=0.0010\n"
     ]
    },
    {
     "name": "stderr",
     "output_type": "stream",
     "text": [
      "/home/insideout/anaconda3/programs/mygit/Very-Deep-Learning-CNN/train_test.py:29: UserWarning: invalid index of a 0-dim tensor. This will be an error in PyTorch 0.5. Use tensor.item() to convert a 0-dim tensor to a Python number\n",
      "  optimizer.step() # Optimizer update\n"
     ]
    },
    {
     "name": "stdout",
     "output_type": "stream",
     "text": [
      "| Epoch [  1/ 10] \t\tLoss: 0.1667 Acc@1: 71.000%\n"
     ]
    },
    {
     "name": "stderr",
     "output_type": "stream",
     "text": [
      "/home/insideout/anaconda3/programs/mygit/Very-Deep-Learning-CNN/train_test.py:34: UserWarning: invalid index of a 0-dim tensor. This will be an error in PyTorch 0.5. Use tensor.item() to convert a 0-dim tensor to a Python number\n",
      "  correct += predicted.eq(targets.data).cpu().sum()\n",
      "/home/insideout/anaconda3/programs/mygit/Very-Deep-Learning-CNN/train_test.py:53: UserWarning: invalid index of a 0-dim tensor. This will be an error in PyTorch 0.5. Use tensor.item() to convert a 0-dim tensor to a Python number\n",
      "  loss = criterion(outputs, targets)\n"
     ]
    },
    {
     "name": "stdout",
     "output_type": "stream",
     "text": [
      "\n",
      "| Validation Epoch #1\t\t\tLoss: 0.0298 Acc@1: 94.00%\n",
      "* Test results : Acc@1 = 94.00%\n",
      "| Elapsed time : 0:00:10\n",
      "\n",
      "=> Training Epoch #2, LR=0.0010\n"
     ]
    },
    {
     "name": "stderr",
     "output_type": "stream",
     "text": [
      "/home/insideout/anaconda3/programs/mygit/Very-Deep-Learning-CNN/train_test.py:60: UserWarning: invalid index of a 0-dim tensor. This will be an error in PyTorch 0.5. Use tensor.item() to convert a 0-dim tensor to a Python number\n",
      "  # Save checkpoint when best model\n"
     ]
    },
    {
     "name": "stdout",
     "output_type": "stream",
     "text": [
      "| Epoch [  2/ 10] \t\tLoss: 0.1576 Acc@1: 94.000%\n",
      "\n",
      "| Validation Epoch #2\t\t\tLoss: 0.0038 Acc@1: 96.00%\n",
      "* Test results : Acc@1 = 96.00%\n",
      "| Elapsed time : 0:00:13\n",
      "\n",
      "=> Training Epoch #3, LR=0.0010\n",
      "| Epoch [  3/ 10] \t\tLoss: 0.1833 Acc@1: 96.000%\n",
      "\n",
      "| Validation Epoch #3\t\t\tLoss: 0.0054 Acc@1: 96.00%\n",
      "* Test results : Acc@1 = 96.00%\n",
      "| Elapsed time : 0:00:16\n",
      "\n",
      "=> Training Epoch #4, LR=0.0010\n",
      "| Epoch [  4/ 10] \t\tLoss: 0.0640 Acc@1: 97.000%\n",
      "\n",
      "| Validation Epoch #4\t\t\tLoss: 0.0068 Acc@1: 97.00%\n",
      "* Test results : Acc@1 = 97.00%\n",
      "| Elapsed time : 0:00:19\n",
      "\n",
      "=> Training Epoch #5, LR=0.0010\n",
      "| Epoch [  5/ 10] \t\tLoss: 0.0720 Acc@1: 97.000%\n",
      "\n",
      "| Validation Epoch #5\t\t\tLoss: 0.0005 Acc@1: 97.00%\n",
      "* Test results : Acc@1 = 97.00%\n",
      "| Elapsed time : 0:00:22\n",
      "\n",
      "=> Training Epoch #6, LR=0.0010\n",
      "| Epoch [  6/ 10] \t\tLoss: 0.0898 Acc@1: 97.000%\n",
      "\n",
      "| Validation Epoch #6\t\t\tLoss: 0.0097 Acc@1: 97.00%\n",
      "* Test results : Acc@1 = 97.00%\n",
      "| Elapsed time : 0:00:25\n",
      "\n",
      "=> Training Epoch #7, LR=0.0010\n",
      "| Epoch [  7/ 10] \t\tLoss: 0.1096 Acc@1: 98.000%\n",
      "\n",
      "| Validation Epoch #7\t\t\tLoss: 0.0007 Acc@1: 98.00%\n",
      "* Test results : Acc@1 = 98.00%\n",
      "| Elapsed time : 0:00:27\n",
      "\n",
      "=> Training Epoch #8, LR=0.0010\n",
      "| Epoch [  8/ 10] \t\tLoss: 0.0320 Acc@1: 98.000%\n",
      "\n",
      "| Validation Epoch #8\t\t\tLoss: 0.0010 Acc@1: 97.00%\n",
      "* Test results : Acc@1 = 98.00%\n",
      "| Elapsed time : 0:00:30\n",
      "\n",
      "=> Training Epoch #9, LR=0.0010\n",
      "| Epoch [  9/ 10] \t\tLoss: 0.1017 Acc@1: 98.000%\n",
      "\n",
      "| Validation Epoch #9\t\t\tLoss: 0.0005 Acc@1: 98.00%\n",
      "* Test results : Acc@1 = 98.00%\n",
      "| Elapsed time : 0:00:33\n",
      "\n",
      "=> Training Epoch #10, LR=0.0010\n",
      "| Epoch [ 10/ 10] \t\tLoss: 0.0152 Acc@1: 98.000%\n",
      "\n",
      "| Validation Epoch #10\t\t\tLoss: 0.0011 Acc@1: 98.00%\n",
      "* Test results : Acc@1 = 98.00%\n",
      "| Elapsed time : 0:00:36\n"
     ]
    }
   ],
   "source": [
    "train_acc, test_acc = start_train_test(net, trainloader, testloader, criterion)"
   ]
  },
  {
   "cell_type": "code",
   "execution_count": null,
   "metadata": {},
   "outputs": [],
   "source": []
  }
 ],
 "metadata": {
  "kernelspec": {
   "display_name": "Python 3",
   "language": "python",
   "name": "python3"
  },
  "language_info": {
   "codemirror_mode": {
    "name": "ipython",
    "version": 3
   },
   "file_extension": ".py",
   "mimetype": "text/x-python",
   "name": "python",
   "nbconvert_exporter": "python",
   "pygments_lexer": "ipython3",
   "version": "3.6.3"
  }
 },
 "nbformat": 4,
 "nbformat_minor": 2
}
